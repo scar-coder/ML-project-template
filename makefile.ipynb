{
 "cells": [
  {
   "cell_type": "markdown",
   "id": "3764bc37",
   "metadata": {},
   "source": [
    "### 0 Help"
   ]
  },
  {
   "cell_type": "code",
   "execution_count": null,
   "id": "8bbbec23",
   "metadata": {},
   "outputs": [],
   "source": [
    "!make help"
   ]
  },
  {
   "cell_type": "markdown",
   "id": "6d9d025a",
   "metadata": {},
   "source": [
    "### 1️ Installa le dipendenze:"
   ]
  },
  {
   "cell_type": "code",
   "execution_count": null,
   "id": "8045ec27",
   "metadata": {},
   "outputs": [],
   "source": [
    "!make install"
   ]
  },
  {
   "cell_type": "markdown",
   "id": "e1a2fe46",
   "metadata": {},
   "source": [
    "### 2️ Prepara il dataset:"
   ]
  },
  {
   "cell_type": "code",
   "execution_count": null,
   "id": "9aa02ac4",
   "metadata": {},
   "outputs": [],
   "source": [
    "!make prepare_data"
   ]
  },
  {
   "cell_type": "markdown",
   "id": "e3d40f3c",
   "metadata": {},
   "source": [
    "### 3️ Addestra il modello:"
   ]
  },
  {
   "cell_type": "code",
   "execution_count": null,
   "id": "8567d318",
   "metadata": {},
   "outputs": [],
   "source": [
    "!make train"
   ]
  },
  {
   "cell_type": "markdown",
   "id": "33d05b45",
   "metadata": {},
   "source": [
    "### 4️ Esegue i test:"
   ]
  },
  {
   "cell_type": "code",
   "execution_count": null,
   "id": "7a81d4b5",
   "metadata": {},
   "outputs": [],
   "source": [
    "!make test"
   ]
  },
  {
   "cell_type": "markdown",
   "id": "4784ddc0",
   "metadata": {},
   "source": [
    "### 5️ Pulisce i file temporanei:"
   ]
  },
  {
   "cell_type": "code",
   "execution_count": null,
   "id": "9da48cfd",
   "metadata": {},
   "outputs": [],
   "source": [
    "!make clean"
   ]
  }
 ],
 "metadata": {
  "kernelspec": {
   "display_name": "Python 3",
   "language": "python",
   "name": "python3"
  },
  "language_info": {
   "name": "python",
   "version": "3.12.6"
  }
 },
 "nbformat": 4,
 "nbformat_minor": 5
}
